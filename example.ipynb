{
 "cells": [
  {
   "cell_type": "code",
   "execution_count": 1,
   "metadata": {},
   "outputs": [],
   "source": [
    "import pdf_annotation as pa"
   ]
  },
  {
   "cell_type": "code",
   "execution_count": 2,
   "metadata": {},
   "outputs": [],
   "source": [
    "app = pa.App(\"pdfs/paper.pdf\")"
   ]
  },
  {
   "cell_type": "code",
   "execution_count": 3,
   "metadata": {},
   "outputs": [
    {
     "data": {
      "application/vnd.jupyter.widget-view+json": {
       "model_id": "c330e606f5124ec7abd31f99907ea3f6",
       "version_major": 2,
       "version_minor": 0
      },
      "text/plain": [
       "App(children=(PdfCanvas(height=900, stroke_style='black', width=800), VBox(children=(HBox(children=(Button(ico…"
      ]
     },
     "metadata": {},
     "output_type": "display_data"
    }
   ],
   "source": [
    "app"
   ]
  },
  {
   "cell_type": "code",
   "execution_count": 7,
   "metadata": {},
   "outputs": [
    {
     "data": {
      "text/plain": [
       "defaultdict(list,\n",
       "            {'Title': ['Connecting Optical Morphology, Environment, and HI Mass Fraction for Low-Redshift Galaxies\\nUsing Deep Learning\\n\\x0c'],\n",
       "             'Abstract': ['c——_— ornare r——\\n\\nA galaxy’s morphological features encode details about its gas content, star formation history, and\\nfeedback processes, which play important roles in regulating its growth and evolution. We use deep\\nconvolutional neural networks (CNNs) to learn a galaxy’s optical morphological information in order\\nto estimate its neutral atomic hydrogen (H I) content directly from SDSS gri image cutouts. We are\\nable to accurately predict a galaxy’s logarithmic H I mass fraction, M = log(My1/M,), by training a\\nCNN on galaxies in the ALFALFA 40% sample. Using pattern recognition (PR), we remove galaxies\\nwith unreliable M estimates. We test CNN predictions on the ALFALFA 100%, xGASS, and NIBLES\\ncatalogs, and find that the CNN consistently outperforms previous estimators. The H I-morphology\\nconnection learned by the CNN appears to be constant in low- to intermediate-density galaxy environ-\\nments, but it breaks down in the highest-density environments. We also use a visualization algorithm,\\nGradient-weighted Class Activation Maps (Grad-CAM), to determine which morphological features\\nare associated with low or high gas content. These results demonstrate that CNNs are powerful tools\\nfor understanding the connections between optical morphology and other properties, as well as for\\nprobing other variables, in a quantitative and interpretable manner.\\n\\x0c'],\n",
       "             'Intro': ['Neutral atomic hydrogen (H I) is the dominant com-\\nponent of cool gas in the interstellar medium (ISM)\\nfor low-redshift galaxies (e.g., Saintonge et al. 2017).\\nAlthough neutral gas is crucial for understanding how\\ngalaxies evolve and grow over cosmic timescales, H I\\nis difficult to detect in extragalactic sources because of\\nits weak 21-cm emission line. This observational chal-\\nlenge has been partially mitigated by large H I surveys\\nsuch as the H I Parkes All Sky Survey (HIPASS; Barnes\\net al. 2001), the Arecibo Legacy Fast ALFA Survey\\n(ALFALFA; Giovanelli et al. 2005), and the GALEX\\nArecibo SDSS Survey (GASS; Catinella et al. 2010),\\nwhich have taken a census of the brightest H I sources\\nin the local Universe. New radio telescopes such as\\nMeerKAT, ASKAP (Australian Square Kilometre Ar-\\nray Pathfinder), and eventually the SKA will allow us to\\nmeasure H I at much lower masses (Myy) and at higher\\n\\x0c',\n",
       "              'redshifts; see, e.g., Looking at the Distant Universe with\\nthe MeerKAT Array (LADUMA; Blyth et al. 2016),\\nMeerKAT International GHz Tiered Extragalactic Ex-\\nploration (MIGHTEE; Jarvis et al. 2016), Wide-field\\nASKAP L-Band Legacy All-sky Blind surveY (WAL-\\nLABY; Koribalski et al. 2020), and Deep Investigation\\nof Neutral Gas Origins (DINGO).!\\n\\nSmall and incomplete HI samples currently limit our\\nability to study gas properties in typical galaxies beyond\\nz 0.05. Since HI is so important to galaxy evolution\\nbut challenging to measure, astronomers have devised\\nproxies for estimating galaxies’ gas content. For exam-\\nple, Kannappan (2004) proposed “photometric” gas frac-\\ntions, leveraging the valuable connection between global\\ngas content and optical properties. Zhang et al. (2009)\\ntightened the relationship by accounting for 7-band sur-\\nface brightness in addition to g — r color. More com-\\nplicated heuristics and machine learning models have\\nalso been used (e.g., Teimoorinia et al. 2017; Rafiefer-\\n\\x0c',\n",
       "              'antsoa et al. 2018), although these estimators become\\nmore difficult to interpret as the number of parameters\\nincreases. Indeed, computer vision algorithms seem to\\nperform spectacularly well at predicting galaxy proper-\\nties directly from optical imaging (e.g., Dieleman et al.\\n2015; Huertas-Company et al. 2019; Morningstar et al.\\n2019; Pasquet et al. 2019; Wu & Boada 2019), but be-\\ncause these models often have millions of parameters,\\nit can be difficult to understand what makes them so\\nsuccessful.\\n\\nWe train a deep convolutional neural network (CNN)\\nto directly predict the logarithm of the H I mass frac-\\ntion, M = log(My1/M,), using three-band optical im-\\nage cutouts from the Sloan Digital Sky Survey (SDSS).\\nAfter demonstrating that our trained model can predict\\nM to within 0.23 dex for a.40, we test the CNN on in-\\ndependent data sets and examine which factors result\\nin poor predictions. We use the same CNN method to\\ndistinguish ALFALFA detections from non-detections,\\nand estimate a galaxy’s likelihood of detection in an\\nALFALFA-like survey from its gri imaging. Using this\\npattern recognition system, we evaluate only the ro-\\nbust predictions on test data sets again and compare\\nto results in the literature. We investigate how the rela-\\ntionship between optical imaging and H I content varies\\nwith galaxy environment. We also use the Grad-CAM\\nalgorithm to localize image features that the CNN as-\\nsociates with high or low gas mass fraction in order to\\nvisually interpret which morphological features are rele-\\nvant to machine learning predictions; it essentially tells\\nus which parts of the image the CNN is looking at in\\norder to determine the gas mass fraction (see, e.g., Peek\\n& Burkhart 2019).\\n\\nThe paper is structured as follows. We describe the\\nH I catalogs and optical imaging in Section 2, and ex-\\nplain some details of the CNNs in Section 3. In Sec-\\ntion 4, we present our results showing that a CNN\\ntrained on ALFALFA can accurately recover M, and\\nreport test results on independent data sets. In Sec-\\ntion 5, we use pattern recognition to identify galax-\\nies that are expected to be detected by an ALFALFA-\\nlike survey, and in Section 6 we compare our results\\nto other M estimators in the literature. In Section 7,\\nwe quantify the impact of environmental effects and\\nstudy how the connection between H I content and op-\\ntical morphology breaks down in the most overdense\\nenvironments. In Section 8, we discuss and interpret\\nthe morphological features that a CNN “sees” in order\\nto distinguish gas-rich systems from gas-poor galaxies.\\nWe discuss future prospects in Section 9, and report\\nour conclusions in Section 10. In the Appendix, we\\npresent comparisons between CNNs and simpler ma-\\n\\x0c',\n",
       "              'chine learning models and tests of CNN performance\\nwhen artificial sources are added to the input images.\\nThroughout this paper, we assume a cosmology with\\nHo = 70 kms~! Mpc}, Qy, = 0.3, Qa = 0.7. All\\nof the code used in our analysis is publicly available at\\nhttps://github.com/jwuphysics /HI-convnets.\\n\\x0c'],\n",
       "             'Citations': ['https://github.com/jwuphysics /HI-convnets.\\n\\x0c',\n",
       "              '2 http: //skyserver.sdss.org/dr14/en/help/docs/api.aspx\\n3 https: //www.sdss.org/dr14/imaging/jpg-images-on-skyserver/\\n\\x0c']})"
      ]
     },
     "execution_count": 7,
     "metadata": {},
     "output_type": "execute_result"
    }
   ],
   "source": [
    "app.export()"
   ]
  },
  {
   "cell_type": "code",
   "execution_count": null,
   "metadata": {},
   "outputs": [],
   "source": []
  }
 ],
 "metadata": {
  "kernelspec": {
   "display_name": "Python 3",
   "language": "python",
   "name": "python3"
  },
  "language_info": {
   "codemirror_mode": {
    "name": "ipython",
    "version": 3
   },
   "file_extension": ".py",
   "mimetype": "text/x-python",
   "name": "python",
   "nbconvert_exporter": "python",
   "pygments_lexer": "ipython3",
   "version": "3.8.2"
  }
 },
 "nbformat": 4,
 "nbformat_minor": 4
}
